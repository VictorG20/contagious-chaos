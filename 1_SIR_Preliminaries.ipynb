{
 "cells": [
  {
   "cell_type": "code",
   "execution_count": null,
   "id": "c1642c2c",
   "metadata": {},
   "outputs": [],
   "source": [
    "using Plots\n",
    "using Roots\n",
    "\n",
    "function IofS(s, params)\n",
    "    s0, R0 = params\n",
    "    \n",
    "    # Defined assuming w.l.o.g. that s0 + i0 = 1.\n",
    "    I = 1 - s + (1/R0)*log(s/s0)\n",
    "end\n",
    "\n",
    "IofS(s, s0, R0) = 1 - s + (1/R0)*log(s/s0)  "
   ]
  },
  {
   "cell_type": "markdown",
   "id": "b168c344",
   "metadata": {},
   "source": [
    "# Plot of $I(S)$ for different values of $R_{0}$"
   ]
  },
  {
   "cell_type": "code",
   "execution_count": null,
   "id": "75f9fb98",
   "metadata": {},
   "outputs": [],
   "source": [
    "s0 = 0.99\n",
    "R0_values = [0.9, 1, 1.1]\n",
    "\n",
    "roots = []\n",
    "s_ranges = []\n",
    "i_curves = []\n",
    "labels = []\n",
    "\n",
    "for R0 in R0_values\n",
    "    root = find_zero(IofS, (0, s0); p=[s0, R0])\n",
    "    push!(roots, root)\n",
    "    \n",
    "    s_range = floor(root, digits=4):1e-4:1\n",
    "    push!(s_ranges, s_range)\n",
    "    \n",
    "    push!(i_curves, IofS.(s_range, s0, R0))\n",
    "    \n",
    "    label = \"\\$ $(R0) \\$\"\n",
    "    \n",
    "    if isempty(labels)\n",
    "        labels = [label]\n",
    "        continue\n",
    "    end\n",
    "    \n",
    "    labels = [labels label]\n",
    "end"
   ]
  },
  {
   "cell_type": "code",
   "execution_count": null,
   "id": "7230c232",
   "metadata": {},
   "outputs": [],
   "source": [
    "xmin = floor(minimum(roots), digits=4)\n",
    "Δx = (s0 - xmin)/12\n",
    "\n",
    "# General plot attributes\n",
    "kw =(;\n",
    "    xlabel=\"\\$ S \\$\",\n",
    "    ylabel=\"\\$ I \\$\",\n",
    "    legendtitle=\"\\$ R_{0} \\$\",\n",
    "    xminorgrid=true,\n",
    "    yminorgrid=true,\n",
    "    xrange=(0.98*xmin, 1 + 0.01*xmin),\n",
    "    xlabelfontsize=15,\n",
    "    ylabelfontsize=15,  # Default value is 11.\n",
    "    legendfontsize=14,\n",
    "    legendtitlefontsize=14,\n",
    "    tickfontsize=10,\n",
    "    framestyle=:box,\n",
    "    legend=:topleft,\n",
    "    dpi=400,\n",
    "    size=(450, 450)\n",
    ")\n",
    "\n",
    "plot1 = plot(s_ranges, i_curves, label=labels, lw=1.7; kw...)\n",
    "\n",
    "plot!([xmin, s0], [0, 0], label=false, lw=0.9, color=:black)  # I = 0 line.\n",
    "\n",
    "# Flow arrows.\n",
    "plot!([s0, s0 - Δx],[0, 0],arrow=true,color=:black,linewidth=2,label=\"\")\n",
    "plot!([s0-1.8*Δx, s0 - 2.8*Δx],[0, 0],arrow=true,color=:black,linewidth=2,label=\"\")\n",
    "plot!([s0-4.2*Δx, s0 - 5.2*Δx],[0, 0],arrow=true,color=:black,linewidth=2,label=\"\")\n",
    "plot!([s0-7.8*Δx, s0 - 8.8*Δx],[0, 0],arrow=true,color=:black,linewidth=2,label=\"\")\n",
    "plot!([s0-10*Δx, s0 - 11*Δx],[0, 0],arrow=true,color=:black,linewidth=2,label=\"\")\n",
    "\n",
    "\n",
    "scatter!(roots, [0, 0, 0], label=false, color=[1, 2, 3], markersize=5)  # S* values.\n",
    "\n",
    "scatter!([s0], [1-s0], label=false, color=:black, markersize=6)  # Initial point (s0, i0).\n",
    "\n",
    "# savefig(plot1, \"./Plots/i_vs_s.png\")"
   ]
  },
  {
   "cell_type": "markdown",
   "id": "f4f337f1",
   "metadata": {},
   "source": [
    "# Plot of $S^{*}$ vs. $R^{0}$ for different values $S_{0}$"
   ]
  },
  {
   "cell_type": "code",
   "execution_count": null,
   "id": "8007734d",
   "metadata": {},
   "outputs": [],
   "source": [
    "S0_range = [0.5, 0.7, 0.8, 0.9, 0.99]\n",
    "R0_range = 0.7:0.1:4\n",
    "\n",
    "roots = [[find_zero(IofS, (0, s0); p=[s0, R0]) for R0 ∈ R0_range] for s0 ∈ S0_range];\n",
    "\n",
    "labels = []\n",
    "\n",
    "for (k, S0) ∈ enumerate(S0_range)\n",
    "    label = \"\\$ $(S0) \\$\"\n",
    "    if k == 1\n",
    "        labels=[label]\n",
    "        continue\n",
    "    end\n",
    "\n",
    "    labels = [labels label]   \n",
    "end"
   ]
  },
  {
   "cell_type": "code",
   "execution_count": null,
   "id": "f9b9fd87",
   "metadata": {},
   "outputs": [],
   "source": [
    "# General plot attributes\n",
    "kw =(;\n",
    "    xlabel=\"\\$ R_{0} \\$\",\n",
    "    ylabel=\"\\$ S^{*} \\$\",\n",
    "    xminorgrid=true,\n",
    "    yminorgrid=true,\n",
    "    yaxis=:log,\n",
    "    xticks=0.5:0.5:maximum(R0_range),\n",
    "    xlabelfontsize=15,\n",
    "    ylabelfontsize=15,  # Default value is 11.\n",
    "    legendfontsize=14,\n",
    "    legendtitlefontsize=14,\n",
    "    tickfontsize=10,\n",
    "    framestyle=:box,\n",
    "    legend=:topright,\n",
    "    legendtitle=\"\\$ S_{0} \\$\",\n",
    "    dpi=400, \n",
    "    size=(450, 450)\n",
    ")\n",
    "\n",
    "plot2 = plot(R0_range, roots, lw=1.7, label=labels, ls=[:solid :dash]; kw...)\n",
    "# savefig(plot2, \"./Plots/root_vs_r0.png\")"
   ]
  }
 ],
 "metadata": {
  "@webio": {
   "lastCommId": null,
   "lastKernelId": null
  },
  "kernelspec": {
   "display_name": "Julia 1.8.5",
   "language": "julia",
   "name": "julia-1.8"
  },
  "language_info": {
   "file_extension": ".jl",
   "mimetype": "application/julia",
   "name": "julia",
   "version": "1.8.5"
  }
 },
 "nbformat": 4,
 "nbformat_minor": 5
}
